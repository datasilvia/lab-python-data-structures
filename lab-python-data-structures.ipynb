{
 "cells": [
  {
   "cell_type": "markdown",
   "metadata": {
    "tags": []
   },
   "source": [
    "# Lab | Data Structures "
   ]
  },
  {
   "cell_type": "markdown",
   "metadata": {},
   "source": [
    "## Exercise: Managing Customer Orders\n",
    "\n",
    "As part of a business venture, you are starting an online store that sells various products. To ensure smooth operations, you need to develop a program that manages customer orders and inventory.\n",
    "\n",
    "Follow the steps below to complete the exercise:\n",
    "\n",
    "1. Define a list called `products` that contains the following items: \"t-shirt\", \"mug\", \"hat\", \"book\", \"keychain\".\n",
    "\n",
    "2. Create an empty dictionary called `inventory`.\n",
    "\n",
    "3. Ask the user to input the quantity of each product available in the inventory. Use the product names from the `products` list as keys in the `inventory` dictionary and assign the respective quantities as values.\n",
    "\n",
    "4. Create an empty set called `customer_orders`.\n",
    "\n",
    "5. Ask the user to input the name of three products that a customer wants to order (from those in the products list, meaning three products out of \"t-shirt\", \"mug\", \"hat\", \"book\" or \"keychain\". Add each product name to the `customer_orders` set.\n",
    "\n",
    "6. Print the products in the `customer_orders` set.\n",
    "\n",
    "7. Calculate the following order statistics:\n",
    "   - Total Products Ordered: The total number of products in the `customer_orders` set.\n",
    "   - Percentage of Products Ordered: The percentage of products ordered compared to the total available products.\n",
    "   \n",
    "   Store these statistics in a tuple called `order_status`.\n",
    "\n",
    "8. Print the order statistics using the following format:\n",
    "   ```\n",
    "   Order Statistics:\n",
    "   Total Products Ordered: <total_products_ordered>\n",
    "   Percentage of Products Ordered: <percentage_ordered>% \n",
    "   ```\n",
    "\n",
    "9. Update the inventory by subtracting 1 from the quantity of each product. Modify the `inventory` dictionary accordingly.\n",
    "\n",
    "10. Print the updated inventory, displaying the quantity of each product on separate lines.\n",
    "\n",
    "Solve the exercise by implementing the steps using the Python concepts of lists, dictionaries, sets, and basic input/output operations. "
   ]
  },
  {
   "cell_type": "code",
   "execution_count": 51,
   "metadata": {},
   "outputs": [
    {
     "name": "stdout",
     "output_type": "stream",
     "text": [
      "{'t-shirt': 1, 'mug': 3, 'hat': 5, 'book': 7, 'keychain': 9}\n",
      "We're sorry, we don have that product, please, choose one of the following: ['t-shirt', 'mug', 'hat', 'book', 'keychain']\n",
      "We're sorry, we don have that product, please, choose one of the following: ['t-shirt', 'mug', 'hat', 'book', 'keychain']\n",
      "{'mug', 'book', 'hat'}\n"
     ]
    }
   ],
   "source": [
    "#1. Define a list called `products` that contains the following items: \"t-shirt\", \"mug\", \"hat\", \"book\", \"keychain\".\n",
    "products = [\"t-shirt\", \"mug\", \"hat\", \"book\", \"keychain\"]\n",
    "\n",
    "#2. Create an empty dictionary called `inventory`.\n",
    "inventory = {}\n",
    "\n",
    "#3. Ask the user to input the quantity of each product available in the inventory. Use the product names from the `products` list as keys in the `inventory` dictionary and assign the respective quantities as values.quantitys = []\n",
    "for product in products:\n",
    "\n",
    "    quantity = int(input(f\"Please input the quantity of {product} available in the inventory\"))\n",
    "    inventory[product] = quantity\n",
    " \n",
    "print(inventory)\n",
    "\n",
    "#4. Create an empty set called `customer_orders`.\n",
    "customer_orders = set()\n",
    "\n",
    "#5. Ask the user to input the name of three products that a customer wants to order (from those in the products list, meaning three products out of \"t-shirt\", \"mug\", \"hat\", \"book\" or \"keychain\". Add each product name to the `customer_orders` set.\n",
    "for i in range(3):\n",
    "     while 1>= i <4:\n",
    "        order = input(\"write three products you want to order\")\n",
    "   \n",
    "        if order in products:\n",
    "            customer_orders.add(order)\n",
    "            i = i+1\n",
    "            #print(customer_orders)\n",
    "            \n",
    "        else:\n",
    "           \n",
    "           print(f\"We're sorry, we don have that product, please, choose one of the following: {products}\")\n",
    "\n",
    "\n",
    "#6. Print the products in the `customer_orders` set.\n",
    "print(customer_orders)\n",
    "           "
   ]
  },
  {
   "cell_type": "code",
   "execution_count": 55,
   "metadata": {},
   "outputs": [
    {
     "name": "stdout",
     "output_type": "stream",
     "text": [
      "The total of products ordered is: 3\n",
      "12\n",
      "Total available products in inventory: 22\n",
      "Percentage of products ordered: 54.55%\n"
     ]
    }
   ],
   "source": [
    "#7. Calculate the following order statistics:\n",
    "#  - Total Products Ordered: The total number of products in the `customer_orders` set.\n",
    "#  - Percentage of Products Ordered: The percentage of products ordered compared to the total available products.\n",
    "#   \n",
    "#   Store these statistics in a tuple called `order_status`.\n",
    "\n",
    "total_products_ordered = len(customer_orders)\n",
    "print(f\"The total of products ordered is: {total_products_ordered}\")\n",
    "\n",
    "cantidad = []\n",
    "for order in customer_orders:\n",
    "    cantidad.append(inventory[order]) \n",
    "    #print(cantidad)\n",
    "\n",
    "total_products_ordered = sum(cantidad)\n",
    "print (total_products_ordered)\n",
    "\n",
    "total_available_products = sum(inventory.values())\n",
    "print(f\"Total available products in inventory: {total_available_products}\")\n",
    "\n",
    "#percentage\n",
    "\n",
    "percentage_ordered = (total_products_ordered / total_available_products) * 100\n",
    "print(f\"Percentage of products ordered: {percentage_ordered:.2f}%\")\n",
    "\n",
    "\n",
    "order_status = (total_products_ordered, percentage_ordered)"
   ]
  },
  {
   "cell_type": "code",
   "execution_count": 56,
   "metadata": {},
   "outputs": [
    {
     "name": "stdout",
     "output_type": "stream",
     "text": [
      "Order Statistics:\n",
      "Total Products Ordered: 12\n",
      "Percentage of Products Ordered: 54.55%\n",
      "Updated Inventory:\n",
      "t-shirt: 1\n",
      "mug: 1\n",
      "hat: 3\n",
      "book: 5\n",
      "keychain: 9\n"
     ]
    }
   ],
   "source": [
    "\n",
    "# Print the order statistics in the requested format\n",
    "print(\"Order Statistics:\")\n",
    "print(f\"Total Products Ordered: {order_status[0]}\")\n",
    "print(f\"Percentage of Products Ordered: {order_status[1]:.2f}%\")\n",
    "\n",
    "#9 Update the inventory by subtracting 1 from the quantity of each product ordered\n",
    "for product in customer_orders:\n",
    "    if inventory[product] > 0:\n",
    "        inventory[product] -= 1\n",
    "\n",
    "#10 Print the updated inventory\n",
    "print(\"Updated Inventory:\")\n",
    "for product, quantity in inventory.items():\n",
    "    print(f\"{product}: {quantity}\")"
   ]
  }
 ],
 "metadata": {
  "kernelspec": {
   "display_name": "Python 3 (ipykernel)",
   "language": "python",
   "name": "python3"
  },
  "language_info": {
   "codemirror_mode": {
    "name": "ipython",
    "version": 3
   },
   "file_extension": ".py",
   "mimetype": "text/x-python",
   "name": "python",
   "nbconvert_exporter": "python",
   "pygments_lexer": "ipython3",
   "version": "3.12.4"
  }
 },
 "nbformat": 4,
 "nbformat_minor": 4
}
